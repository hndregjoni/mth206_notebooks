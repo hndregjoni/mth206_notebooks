{
 "cells": [
  {
   "cell_type": "code",
   "execution_count": 122,
   "id": "35a0ed0b-4c16-4fb3-bc95-a920fbfa7387",
   "metadata": {},
   "outputs": [],
   "source": [
    "import numpy as np\n",
    "import matplotlib.pyplot as plt\n",
    "%matplotlib inline"
   ]
  },
  {
   "cell_type": "markdown",
   "id": "84cd5ddd-eb49-4964-a459-336075b7bbb1",
   "metadata": {},
   "source": [
    "# Exercise 6.17"
   ]
  },
  {
   "cell_type": "markdown",
   "id": "eb6eb1e1-ede8-4b8a-9dff-16b8bc72273b",
   "metadata": {},
   "source": [
    "Use natural cubic splines interpolation (based on Lagrange-form polynomials \\[Eqs. (6.86)-(6.89)\\]) with the data in Problem 6.13; to calculate the power of the following windspeeds:"
   ]
  },
  {
   "cell_type": "markdown",
   "id": "7c0e9944-78d0-4cdc-8f6d-95897f0db031",
   "metadata": {},
   "source": [
    "* 24 mph\n",
    "* 35 mph"
   ]
  },
  {
   "cell_type": "markdown",
   "id": "1cbd3c24-604c-4360-92ef-cffc7709cf7b",
   "metadata": {},
   "source": [
    "|Wind Speed (mph) |14 |22 |30 |38 |46 |\n",
    "|-----------------|---|---|---|---|---|\n",
    "|Elecitrc Power(W)|320|490|540|500|480|"
   ]
  },
  {
   "cell_type": "code",
   "execution_count": 162,
   "id": "a4a3afc8-dd4a-4d63-a9a5-ca83aa8efda2",
   "metadata": {},
   "outputs": [],
   "source": [
    "x = np.array([14, 22, 30, 38, 46])\n",
    "y = np.array([320, 490, 540, 500, 480])\n",
    "n = x.shape[0]"
   ]
  },
  {
   "cell_type": "code",
   "execution_count": 261,
   "id": "71eaba78-0f45-4974-9d6b-8f22850397ce",
   "metadata": {},
   "outputs": [],
   "source": [
    "#For plotting\n",
    "EXTRAPOLATE=True\n",
    "xleft = 12\n",
    "xright = 50"
   ]
  },
  {
   "cell_type": "markdown",
   "id": "5d56afe1-8293-4178-b1b0-de2f960f9d15",
   "metadata": {},
   "source": [
    "## Solution"
   ]
  },
  {
   "cell_type": "markdown",
   "id": "7babd93d-4c32-46f4-b8ab-11ca75730032",
   "metadata": {},
   "source": [
    "The polynomial in the i-th segment (\\[i, i+1\\]) is given by:\n",
    "$$f_i(x) = \\frac{a_i}{6h_i}(x_{i+1} - x)^3 + \\frac{a_{i+1}}{6h_i}(x- x_i)^3 + [\\frac{y_i}{h_i} - \\frac{a_ih_i}{6}](x_{i+1} - x) + [\\frac{y_{i+1}}{h_i} - \\frac{a_{i+1}h_i}{6}](x - x_i)$$\n",
    "\n",
    "The system of equations is given by:\n",
    "$$h_ia_i + 2(h_i + h_{i+1})a_{i+1} + h_{i+1}a_{i+2} = 6[\\frac{y_{i+2} - y_{i+1}}{h_{i+1}} - \\frac{y_{i+1} - y_i}{h_i}]$$\n",
    "$$ i = 1,2,\\ldots,n-2 $$"
   ]
  },
  {
   "cell_type": "markdown",
   "id": "7da4c6fd-fd33-4125-9919-4b62ad00103c",
   "metadata": {},
   "source": [
    "And\n",
    "$$h_i = x_{i+1} - x_i$$"
   ]
  },
  {
   "cell_type": "code",
   "execution_count": 262,
   "id": "aacab2f1-ed56-48d1-81ed-3d246399ed7a",
   "metadata": {},
   "outputs": [],
   "source": [
    "def get_function(x, a, i):\n",
    "    h = lambda i: x[i+1] - x[i]\n",
    "    \n",
    "    return lambda X: (a[i]/(6*h(i)))*(x[i+1]-X)**3 + (a[i+1]/(6*h(i)))*(X-x[i])**3 + \\\n",
    "        (y[i]/h(i) - (a[i]*h(i))/6)*(x[i+1] - X) + (y[i+1]/h(i) - (a[i+1]*h(i))/6)*(X-x[i])"
   ]
  },
  {
   "cell_type": "code",
   "execution_count": 263,
   "id": "3ada4737-f74a-4ddc-bbfd-9a51c9c7ff69",
   "metadata": {},
   "outputs": [],
   "source": [
    "def get_system(x, y):\n",
    "    n = np.shape(x)[0]\n",
    "    A = np.zeros((n, n))\n",
    "    b = np.zeros(n)\n",
    "    #a_0 = 0\n",
    "    A[0,0] = 1\n",
    "    b[0] = 0\n",
    "    #a_n-1 = 0\n",
    "    A[n-1,n-1] = 1\n",
    "    b[n-1]= 0\n",
    "    \n",
    "    h = lambda i: x[i+1] - x[i]\n",
    "    \n",
    "    # We go from 1 to n-2, filling the equations (n-1 is excluded in range())\n",
    "    # The index has been shifted to the left, so it is more symmetric\n",
    "    for i in range(1, n-1):\n",
    "        #a_{i-1}\n",
    "        A[i, i-1] = h(i-1)\n",
    "        #a_i\n",
    "        A[i, i] = 2*(h(i-1) + h(i))\n",
    "        #a_{i+1}\n",
    "        A[i, i+1] = h(i)\n",
    "        \n",
    "        b[i] = 6 * ((y[i+1] - y[i])/h(i) - (y[i] - y[i-1])/h(i-1))\n",
    "    \n",
    "    return A, b"
   ]
  },
  {
   "cell_type": "code",
   "execution_count": 264,
   "id": "d1ccabb2-04d1-485b-96dd-f5c574077f13",
   "metadata": {},
   "outputs": [],
   "source": [
    "A, b = get_system(x, y)"
   ]
  },
  {
   "cell_type": "code",
   "execution_count": 265,
   "id": "acdfe071-74e2-4254-a94a-11d626103752",
   "metadata": {},
   "outputs": [
    {
     "data": {
      "text/plain": [
       "array([[ 1.,  0.,  0.,  0.,  0.],\n",
       "       [ 8., 32.,  8.,  0.,  0.],\n",
       "       [ 0.,  8., 32.,  8.,  0.],\n",
       "       [ 0.,  0.,  8., 32.,  8.],\n",
       "       [ 0.,  0.,  0.,  0.,  1.]])"
      ]
     },
     "execution_count": 265,
     "metadata": {},
     "output_type": "execute_result"
    }
   ],
   "source": [
    "A"
   ]
  },
  {
   "cell_type": "code",
   "execution_count": 266,
   "id": "9655d3c3-6cb9-4b2b-88bf-ef7e21d5a5fe",
   "metadata": {},
   "outputs": [
    {
     "data": {
      "text/plain": [
       "array([  0. , -90. , -67.5,  15. ,   0. ])"
      ]
     },
     "execution_count": 266,
     "metadata": {},
     "output_type": "execute_result"
    }
   ],
   "source": [
    "b"
   ]
  },
  {
   "cell_type": "markdown",
   "id": "b235d62e-6582-4c16-a4e0-478f85279b4b",
   "metadata": {},
   "source": [
    "We solve the system:"
   ]
  },
  {
   "cell_type": "code",
   "execution_count": 267,
   "id": "8fe8eb85-481a-4c4a-a96a-4fedcff07dec",
   "metadata": {},
   "outputs": [],
   "source": [
    "a = np.linalg.solve(A, b)"
   ]
  },
  {
   "cell_type": "code",
   "execution_count": 268,
   "id": "af4363b7-e2aa-481c-a65c-47d600881ef6",
   "metadata": {},
   "outputs": [
    {
     "data": {
      "text/plain": [
       "array([ 5.32907052e-15, -2.37723214e+00, -1.74107143e+00,  9.04017857e-01,\n",
       "        0.00000000e+00])"
      ]
     },
     "execution_count": 268,
     "metadata": {},
     "output_type": "execute_result"
    }
   ],
   "source": [
    "a"
   ]
  },
  {
   "cell_type": "markdown",
   "id": "106e2e7d-afe4-4d51-b7df-d584632b94b6",
   "metadata": {},
   "source": [
    "Get a list of n-1 functions, and build a piecewise function"
   ]
  },
  {
   "cell_type": "code",
   "execution_count": 269,
   "id": "07cee1ff-a75f-469b-8a0d-e1fac078dd3c",
   "metadata": {},
   "outputs": [],
   "source": [
    "functions = [get_function(x, a, i) for i in range(n-1)]"
   ]
  },
  {
   "cell_type": "code",
   "execution_count": 270,
   "id": "bcb91470-d5fd-4f55-ba9f-598b72929ce3",
   "metadata": {},
   "outputs": [],
   "source": [
    "def is_in_section(x, xs, i, extrapolate=False):\n",
    "    n = xs.shape[0]\n",
    "    # Is x in section i of xs ?\n",
    "    \n",
    "    if (extrapolate):\n",
    "        if i==0:\n",
    "            return x < xs[1]\n",
    "        if i==n-2:\n",
    "            return x >= xs[n-2]\n",
    "    \n",
    "    return np.bitwise_and(x >= xs[i], x <= xs[i+1])"
   ]
  },
  {
   "cell_type": "code",
   "execution_count": 271,
   "id": "f0db3521-a51d-46aa-97a7-f298b9939d17",
   "metadata": {},
   "outputs": [],
   "source": [
    "def build_piecewise(xaxis, xs, functions):\n",
    "    return np.piecewise(xaxis, \\\n",
    "                        [is_in_section(xaxis, xs, i) for i in range(len(functions))], \\\n",
    "                        functions)\n",
    "\n",
    "# This is callable\n",
    "def piecewise_func(x, xs, functions, extrapolate):\n",
    "    n = xs.shape[0]\n",
    "    for i in range(n-1):\n",
    "        if is_in_section(x, xs, i, extrapolate=extrapolate):\n",
    "            return functions[i](x)\n",
    "\n",
    "def build_piecewise2(xaxis, xs, functions, extrapolate=False):\n",
    "    l = lambda x: piecewise_func(x, xs, functions, extrapolate)\n",
    "    return np.vectorize(l)(xaxis), l"
   ]
  },
  {
   "cell_type": "code",
   "execution_count": 272,
   "id": "f3282d23-454f-4844-9eda-f93bf1467679",
   "metadata": {},
   "outputs": [
    {
     "data": {
      "text/plain": [
       "array([12., 13., 14., 15., 16., 17., 18., 19., 20., 21., 22., 23., 24.,\n",
       "       25., 26., 27., 28., 29., 30., 31., 32., 33., 34., 35., 36., 37.,\n",
       "       38., 39., 40., 41., 42., 43., 44., 45., 46., 47., 48., 49., 50.])"
      ]
     },
     "execution_count": 272,
     "metadata": {},
     "output_type": "execute_result"
    }
   ],
   "source": [
    "xaxis = np.linspace(xleft, xright, xright-xleft+1)\n",
    "xaxis"
   ]
  },
  {
   "cell_type": "code",
   "execution_count": 273,
   "id": "d5da4aeb-755d-4bb0-9d78-cfaa96a8999a",
   "metadata": {},
   "outputs": [],
   "source": [
    "# piecewise = build_piecewise(xaxis, x, functions)\n",
    "piecewise, F = build_piecewise2(xaxis, x, functions, extrapolate=EXTRAPOLATE)"
   ]
  },
  {
   "cell_type": "code",
   "execution_count": 274,
   "id": "839fe92e-b21e-4781-b2a5-9832de0d77f6",
   "metadata": {},
   "outputs": [
    {
     "data": {
      "text/plain": [
       "array([271.55691964, 295.62988281, 320.        , 344.37011719,\n",
       "       368.44308036, 391.92173549, 414.50892857, 435.90750558,\n",
       "       455.8203125 , 473.95019531, 490.        , 503.73535156,\n",
       "       515.17299107, 524.39243862, 531.47321429, 536.49483817,\n",
       "       539.53683036, 540.67871094, 540.        , 537.62207031,\n",
       "       533.83370536, 528.96554129, 523.34821429, 517.31236049,\n",
       "       511.18861607, 505.30761719, 500.        , 495.52246094,\n",
       "       491.8359375 , 488.82742746, 486.38392857, 484.39243862,\n",
       "       482.73995536, 481.31347656, 480.        , 478.68652344,\n",
       "       477.26004464, 475.60756138, 473.61607143])"
      ]
     },
     "execution_count": 274,
     "metadata": {},
     "output_type": "execute_result"
    }
   ],
   "source": [
    "piecewise"
   ]
  },
  {
   "cell_type": "code",
   "execution_count": 275,
   "id": "f8c31ec9-1dee-4ed2-a9e6-8952f072c1fd",
   "metadata": {},
   "outputs": [
    {
     "name": "stdout",
     "output_type": "stream",
     "text": [
      "(24, 515.1729910714286) (35, 517.3123604910714)\n"
     ]
    }
   ],
   "source": [
    "P1 = (24, F(24))\n",
    "P2 = (35, F(35))\n",
    "print(P1, P2)"
   ]
  },
  {
   "cell_type": "code",
   "execution_count": 276,
   "id": "a2d31991-4a38-44e3-8437-556be2e42d39",
   "metadata": {},
   "outputs": [
    {
     "data": {
      "image/png": "[encoded data removed]",
      "text/plain": [
       "<Figure size 432x288 with 1 Axes>"
      ]
     },
     "metadata": {
      "needs_background": "light"
     },
     "output_type": "display_data"
    }
   ],
   "source": [
    "plt.plot(xaxis, piecewise)\n",
    "for i in range(n):\n",
    "    plt.plot(x[i], y[i], 'ro')\n",
    "\n",
    "plt.plot(*P1, 'bo')\n",
    "plt.plot(*P2, 'bo')\n",
    "plt.show()"
   ]
  },
  {
   "cell_type": "code",
   "execution_count": null,
   "id": "b64ae8b5-5bf7-4201-adcb-4eb62015737e",
   "metadata": {},
   "outputs": [],
   "source": []
  }
 ],
 "metadata": {
  "kernelspec": {
   "display_name": "Python 3",
   "language": "python",
   "name": "python3"
  },
  "language_info": {
   "codemirror_mode": {
    "name": "ipython",
    "version": 3
   },
   "file_extension": ".py",
   "mimetype": "text/x-python",
   "name": "python",
   "nbconvert_exporter": "python",
   "pygments_lexer": "ipython3",
   "version": "3.9.5"
  }
 },
 "nbformat": 4,
 "nbformat_minor": 5
}
